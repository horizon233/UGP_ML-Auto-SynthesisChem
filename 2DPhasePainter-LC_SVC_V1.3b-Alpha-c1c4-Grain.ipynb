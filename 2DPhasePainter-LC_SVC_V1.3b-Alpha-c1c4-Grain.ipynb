{
 "cells": [
  {
   "cell_type": "markdown",
   "metadata": {},
   "source": [
    "# 2D-Phase-Painter-ForLC\n",
    "### 与闪电晶体号对接的2维相图绘制\n",
    "最后更新：2022.04.06 戴以恒  "
   ]
  },
  {
   "cell_type": "code",
   "execution_count": null,
   "metadata": {
    "ExecuteTime": {
     "end_time": "2022-04-26T01:31:42.020691Z",
     "start_time": "2022-04-26T01:31:41.841304Z"
    }
   },
   "outputs": [],
   "source": [
    "import numpy as np\n",
    "import matplotlib.pyplot as plt\n",
    "from multiprocessing import Pool\n",
    "from IPython.display import clear_output as clear\n",
    "import time\n",
    "import math\n",
    "import gc\n",
    "c_time = time.strftime(\"%Y%m%d_%H%M%S\", time.localtime())\n",
    "c_time_m = time.strftime(\"%Y-%m-%d %H:%M:%S\", time.localtime())"
   ]
  },
  {
   "cell_type": "code",
   "execution_count": null,
   "metadata": {
    "ExecuteTime": {
     "end_time": "2022-04-26T01:31:42.026459Z",
     "start_time": "2022-04-26T01:31:42.022093Z"
    }
   },
   "outputs": [],
   "source": [
    "# 参数\n",
    "# ======== System Setup ========\n",
    "Version = 'SVC-V1.3b-Alpha-c1c4-Grain'\n",
    "EPOCH = 30 # 每个c1,c2条件绘制1张相图需要EPOCH轮，注意合理设置这些参数，防止运行时间暴增\n",
    "C1_UPPER = 3.00   # c1绘制相图的浓度上限，浓度单位为mM，即mmol/L\n",
    "C1_LOWER = 0.00   # c1绘制相图的浓度下限，浓度单位为mM，即mmol/L\n",
    "C1_NUM = 51       # 在上下限之间绘制的点数\n",
    "C4_UPPER = 60.0\n",
    "C4_LOWER = 0.00\n",
    "C4_NUM = 61\n",
    "# C2_UPPER = 3.00\n",
    "# C2_LOWER = 0.00\n",
    "# C2_NUM = 151\n",
    "# ======== Fit Data Input ========\n",
    "INPUT_X_C = 'Features_499_5_c.csv'\n",
    "INPUT_Y_C = 'Values_Red_499_R.csv'\n",
    "\n",
    "INPUT_X_P = 'Features_68_5_c.csv'\n",
    "INPUT_Y_P = 'Values_YF_68.csv'\n",
    "\n",
    "INPUT_TITLE = 'Title_5_c.csv'\n",
    "# ======== Other Fitting Settings ========\n",
    "TRAIN_TEST_SPLIT_1 = 0.85\n",
    "TRAIN_TEST_SPLIT_2 = 0.75\n",
    "# ======== Draw Settings ========\n",
    "C3_UPPER = 80.0   # c3绘制相图的浓度上限，浓度单位为mM，即mmol/L\n",
    "C3_LOWER = 0.0   # c3绘制相图的浓度下限，浓度单位为mM，即mmol/L\n",
    "C3_NUM = 30001       # 在上下限之间绘制的点数\n",
    "# 由于浓度的自由度只有3，实际上c2由c1、c2、c4共同决定。\n",
    "# C4_UPPER = 17.0\n",
    "# C4_LOWER = 2.0\n",
    "# C4_NUM = 51\n",
    "C5_PRODUCT_TIME = 1.949  # 2.601代表5:1加水，1.949代表5:0.75加水\n",
    "# ======== Sampling Settings ========\n",
    "C0 = [3.72, 4.966, 100.0, 60.0]     # 原始数据C1的溶液浓度，单位为M，即mmol/L"
   ]
  },
  {
   "cell_type": "code",
   "execution_count": null,
   "metadata": {
    "ExecuteTime": {
     "end_time": "2022-04-26T01:31:42.112204Z",
     "start_time": "2022-04-26T01:31:42.027857Z"
    }
   },
   "outputs": [],
   "source": [
    "X_C = np.loadtxt(INPUT_X_C, delimiter=',')\n",
    "title = np.loadtxt(INPUT_TITLE, dtype='str', delimiter=',', comments='!')\n",
    "y_c = np.loadtxt(INPUT_Y_C, delimiter=',', dtype=float)\n",
    "X_PP = np.loadtxt(INPUT_X_P, delimiter=',')\n",
    "y_pp = np.loadtxt(INPUT_Y_P, delimiter=',', dtype=float)\n",
    "print('X:', X_C.shape, '   y:', y_c.shape)"
   ]
  },
  {
   "cell_type": "code",
   "execution_count": null,
   "metadata": {
    "ExecuteTime": {
     "end_time": "2022-04-26T01:31:42.390965Z",
     "start_time": "2022-04-26T01:31:42.113395Z"
    }
   },
   "outputs": [],
   "source": [
    "from sklearn import model_selection\n",
    "from sklearn.svm import SVC\n",
    "from sklearn.metrics import mean_squared_error\n",
    "from sklearn.model_selection import cross_val_score\n",
    "from sklearn.metrics import confusion_matrix\n",
    "import joblib"
   ]
  },
  {
   "cell_type": "code",
   "execution_count": null,
   "metadata": {
    "ExecuteTime": {
     "end_time": "2022-04-26T01:31:42.396427Z",
     "start_time": "2022-04-26T01:31:42.392451Z"
    }
   },
   "outputs": [],
   "source": [
    "import os\n",
    "from pathlib import Path\n",
    "DIR = '2D-Phase-Painter-LC_'+Version+'_'+c_time\n",
    "os.mkdir(DIR)\n",
    "RECORD_NAME = Path('.', DIR, '2DPS-LC_00_Record_'+c_time+'.txt')\n",
    "f1 = open(RECORD_NAME, 'w')\n",
    "f1.write('2DPS-LC Starts at '+time.strftime(\"%Y-%m-%d %H:%M:%S\", time.localtime())+'\\n\\n')\n",
    "DIR2 = Path('.', DIR, 'TEMP')\n",
    "os.mkdir(DIR2)"
   ]
  },
  {
   "cell_type": "code",
   "execution_count": null,
   "metadata": {
    "ExecuteTime": {
     "end_time": "2022-04-26T01:31:42.477701Z",
     "start_time": "2022-04-26T01:31:42.397540Z"
    }
   },
   "outputs": [],
   "source": [
    "# 生成c1、c2格点：\n",
    "l_c1 = np.linspace(C1_LOWER, C1_UPPER, C1_NUM)\n",
    "l_c4 = np.linspace(C4_LOWER, C4_UPPER, C4_NUM)\n",
    "c_list = []\n",
    "idx_list = []\n",
    "for i in range(len(l_c1)):\n",
    "    for j in range(len(l_c4)):\n",
    "        c_list.append([l_c1[i], l_c4[j]])\n",
    "        idx_list.append([i, j])\n",
    "c_list = np.array(c_list)\n",
    "idx_list = np.array(idx_list)"
   ]
  },
  {
   "cell_type": "code",
   "execution_count": null,
   "metadata": {
    "ExecuteTime": {
     "start_time": "2022-04-26T01:33:39.189Z"
    }
   },
   "outputs": [],
   "source": [
    "# 大循环\n",
    "out = []\n",
    "a_m_1 = np.zeros((len(l_c1), len(l_c4)))\n",
    "a_m_rela_1 = np.zeros((len(l_c1), len(l_c4)))\n",
    "pp_num = np.zeros((len(l_c1), len(l_c4)))\n",
    "TEMP_NAME = None\n",
    "for kk in range(c_list.shape[0]):\n",
    "    TARGET_C1 = c_list[kk, 0]\n",
    "    TARGET_C4 = c_list[kk, 1]\n",
    "    print('Epoch', kk+1, 'Begin:  c1:', TARGET_C1, '  c4:', TARGET_C4)\n",
    "    f1.write('  Epoch '+str(kk+1)+' started at '+time.strftime(\"%Y-%m-%d %H:%M:%S\", time.localtime())+'\\n')\n",
    "    if kk != 0:\n",
    "        os.remove(TEMP_NAME)\n",
    "    TEMP_NAME = Path(DIR2, '2DPS_Epoch_'+str(kk+1).zfill(4)+'-'+str(c_list.shape[0]).zfill(4)+'_'+time.strftime(\"%Y%m%d_%H%M%S\", time.localtime())+'.txt')\n",
    "    f2 = open(TEMP_NAME, 'w')\n",
    "    f2.close()\n",
    "    # 生成格点数据集\n",
    "    c3_l = np.linspace(C3_LOWER, C3_UPPER, C3_NUM)\n",
    "    # c4_l = np.linspace(C4_LOWER, C4_UPPER, C4_NUM)\n",
    "    X_p_C = []\n",
    "    for i in range(len(c3_l)):\n",
    "        ttt = 1 - TARGET_C1/C0[0] - TARGET_C4/C0[3] - c3_l[i]/C0[2]\n",
    "        if ttt>=0:\n",
    "            c2 = C0[1]*ttt\n",
    "            X_p_C.append([TARGET_C1, c2, c3_l[i], TARGET_C4, C5_PRODUCT_TIME*TARGET_C1])\n",
    "    pp_num[idx_list[kk, 0], idx_list[kk, 1]] = len(X_p_C)\n",
    "    X_p_C = np.array(X_p_C)\n",
    "    if X_p_C.shape[0] > 0:\n",
    "        # 预测有无还原现象\n",
    "        clf = SVC(kernel='rbf', gamma=np.exp(-5.993538850618485), C=13.059715322026376, verbose=1, max_iter=-1, cache_size=40960, probability=True)\n",
    "        paras = clf.get_params()\n",
    "        point = round(X_C.shape[0]*TRAIN_TEST_SPLIT_1)\n",
    "        y_p_m = []\n",
    "        y_p_c = np.zeros((X_p_C.shape[0], 1))\n",
    "        acc_list = []\n",
    "        for _ in range(EPOCH):\n",
    "            permutation = np.random.permutation(y_c.shape[0])\n",
    "            train_idx = permutation[:point]\n",
    "            test_idx = permutation[point:]\n",
    "            X_train = X_C[train_idx, :]\n",
    "            y_train = y_c[train_idx]\n",
    "            X_test = X_C[test_idx, :]\n",
    "            y_test = y_c[test_idx]\n",
    "            clf_new = SVC()\n",
    "            for k, v in paras.items():\n",
    "                clf_new.set_params(**{k: v})\n",
    "            # 拟合模型\n",
    "            clf_new.fit(X_train, y_train)\n",
    "            # 计算损失\n",
    "            y_pred = clf_new.predict(X_test)\n",
    "            acc_count = 0\n",
    "            for i in range(X_test.shape[0]):\n",
    "                if y_pred[i]==y_test[i]:\n",
    "                    acc_count += 1\n",
    "            acc = acc_count*100/X_test.shape[0]\n",
    "            y_p = clf_new.predict_proba(X_p_C)\n",
    "            y_p_l = y_p[:, 1].flatten().tolist()\n",
    "            acc_list.append(acc)\n",
    "            y_p_m.append(y_p_l)\n",
    "        y_p_m = np.array(y_p_m)\n",
    "        y_p_m = y_p_m.transpose()\n",
    "        for i in range(X_p_C.shape[0]):\n",
    "            y_p_c[i, 0] = np.mean(y_p_m[i, :])\n",
    "        del y_p_m\n",
    "        # 加权计算\n",
    "        y_p_c_l = []\n",
    "        for i in range(y_p_c.shape[0]):\n",
    "            y_p_c_l.append(1/(1+np.exp(15-30*y_p_c[i, 0])))\n",
    "        X_p_t1 = []\n",
    "        for i in range(X_p_C.shape[0]):\n",
    "            if y_p_c_l[i] > 0.5:\n",
    "                X_p_t1.append(X_p_C[i, :].flatten().tolist())\n",
    "        X_p_t1 = np.array(X_p_t1)\n",
    "        if X_p_t1.shape[0] > 0:\n",
    "            # 预测是否产生黄色荧光\n",
    "            clf = SVC(kernel='rbf', gamma=np.exp(-6.964045492214664), C=13.589042049663163, verbose=1, max_iter=-1, cache_size=40960, probability=True)\n",
    "            paras = clf.get_params()\n",
    "            point = round(X_PP.shape[0]*TRAIN_TEST_SPLIT_1)\n",
    "            y_p_m = []\n",
    "            y_p_t1 = np.zeros((X_p_t1.shape[0], 1))\n",
    "            acc_list = []\n",
    "            for _ in range(EPOCH):\n",
    "                permutation = np.random.permutation(y_pp.shape[0])\n",
    "                train_idx = permutation[:point]\n",
    "                test_idx = permutation[point:]\n",
    "                X_train = X_PP[train_idx, :]\n",
    "                y_train = y_pp[train_idx]\n",
    "                X_test = X_PP[test_idx, :]\n",
    "                y_test = y_pp[test_idx]\n",
    "                clf_new = SVC()\n",
    "                for k, v in paras.items():\n",
    "                    clf_new.set_params(**{k: v})\n",
    "                # 拟合模型\n",
    "                clf_new.fit(X_train, y_train)\n",
    "                # 计算损失\n",
    "                y_pred = clf_new.predict(X_test)\n",
    "                acc_count = 0\n",
    "                for i in range(X_test.shape[0]):\n",
    "                    if y_pred[i]==y_test[i]:\n",
    "                        acc_count += 1\n",
    "                acc = acc_count*100/X_test.shape[0]\n",
    "                y_p = clf_new.predict_proba(X_p_t1)\n",
    "                y_p_l = y_p[:, 1].flatten().tolist()\n",
    "                acc_list.append(acc)\n",
    "                y_p_m.append(y_p_l)\n",
    "            y_p_m = np.array(y_p_m)\n",
    "            y_p_m = y_p_m.transpose()\n",
    "            for i in range(X_p_t1.shape[0]):\n",
    "                y_p_t1[i, 0] = np.mean(y_p_m[i, :])\n",
    "            clear()\n",
    "            del y_p_m\n",
    "            y_p_t1_l = []\n",
    "            for i in range(y_p_t1.shape[0]):\n",
    "                y_p_t1_l.append(1/(1+np.exp(15-30*y_p_t1[i, 0])))\n",
    "            out.append(sum(y_p_t1_l))\n",
    "            a_m_1[idx_list[kk, 0], idx_list[kk, 1]] = sum(y_p_t1_l)\n",
    "            a_m_rela_1[idx_list[kk, 0], idx_list[kk, 1]] = sum(y_p_t1_l)/len(y_p_t1_l)\n",
    "        else:\n",
    "            out.append(0)\n",
    "            a_m_1[idx_list[kk, 0], idx_list[kk, 1]] = 0\n",
    "            a_m_rela_1[idx_list[kk, 0], idx_list[kk, 1]] = 0\n",
    "    else:\n",
    "        out.append(0)\n",
    "        a_m_1[idx_list[kk, 0], idx_list[kk, 1]] = 0\n",
    "        a_m_rela_1[idx_list[kk, 0], idx_list[kk, 1]] = 0"
   ]
  },
  {
   "cell_type": "code",
   "execution_count": null,
   "metadata": {
    "ExecuteTime": {
     "start_time": "2022-04-26T01:33:39.190Z"
    }
   },
   "outputs": [],
   "source": [
    "# 保存数据\n",
    "f1.close()\n",
    "save_name = '2DPS_01a_Red_Matrix_Abso_'+str(a_m_1.shape[0])+'_'+str(a_m_1.shape[1])+'.csv'\n",
    "save_name = Path('.', DIR, save_name)\n",
    "np.savetxt(save_name, a_m_1, fmt='%s', delimiter=',')\n",
    "save_name = '2DPS_01b_Red_Matrix_Rela_'+str(a_m_rela_1.shape[0])+'_'+str(a_m_rela_1.shape[1])+'.csv'\n",
    "save_name = Path('.', DIR, save_name)\n",
    "np.savetxt(save_name, a_m_rela_1, fmt='%s', delimiter=',')\n",
    "save_name = '2DPS_01c_DP_Num_'+str(pp_num.shape[0])+'_'+str(pp_num.shape[1])+'.csv'\n",
    "save_name = Path('.', DIR, save_name)\n",
    "np.savetxt(save_name, pp_num, fmt='%s', delimiter=',')"
   ]
  },
  {
   "cell_type": "code",
   "execution_count": null,
   "metadata": {
    "ExecuteTime": {
     "start_time": "2022-04-26T01:33:39.192Z"
    }
   },
   "outputs": [],
   "source": [
    "# 绘制针对553的搜索图：\n",
    "x_t = []\n",
    "y_t = []\n",
    "x_ticks = []\n",
    "y_ticks = []\n",
    "for i in range(len(l_c1)):\n",
    "    if i % 2 == 0:\n",
    "        x_t.append(i)\n",
    "        if i%4 == 0:\n",
    "            x_ticks.append(str(round(l_c1[i], 3)))\n",
    "        else:\n",
    "            x_ticks.append('')\n",
    "for i in range(len(l_c4)):\n",
    "    if i % 2 == 0:\n",
    "        y_t.append(i)\n",
    "        if i%4 == 0:\n",
    "            y_ticks.append(str(round(l_c4[i], 3)))\n",
    "        else:\n",
    "            y_ticks.append('')\n",
    "\n",
    "fig = plt.figure(figsize=(7.2, 7.8), dpi=300)\n",
    "ax = fig.add_axes([0.12, 0.11, 0.84, 0.72])\n",
    "sc = ax.imshow(a_m_1.transpose(), cmap='RdYlGn', origin='lower', aspect='auto', zorder=5, vmin=0.0)\n",
    "ax.plot([0, C0[0]*(C1_NUM-1)/(C1_UPPER-C1_LOWER)], [C0[3]*(C4_NUM-1)/(C4_UPPER-C4_LOWER), 0], \n",
    "        linestyle=':', linewidth=3.0, zorder=10, color='#87CEEB')\n",
    "ax.set_xlim(0, C1_NUM-1)\n",
    "ax.set_ylim(0, C4_NUM-1)\n",
    "ax.set_xticks(x_t)\n",
    "ax.set_yticks(y_t)\n",
    "ax.set_xticklabels(x_ticks, rotation=30)\n",
    "ax.set_yticklabels(y_ticks)\n",
    "ax.set_xlabel(title[0], fontsize=17)\n",
    "ax.set_ylabel(title[3], fontsize=17)\n",
    "plt.suptitle('2D Phase Searching of Reduction by C\\n'+\n",
    "             'C Range:c1:'+str(C1_LOWER)+'~'+str(C1_UPPER)+'mM    c4:'+str(C4_LOWER)+'~'+str(C4_UPPER)+'mM\\n'+\n",
    "             'C Range:c3:'+str(C3_LOWER)+'~'+str(C3_UPPER)+'mM\\n '+\n",
    "             'c5 Product Time:'+str(C5_PRODUCT_TIME)+'\\n', fontsize=18)\n",
    "cb = plt.colorbar(sc)\n",
    "cb.set_label('Absolute Area of Reduction', fontsize=17)\n",
    "save_name = '2DPS_02a_2D-Phase-Searching_Red_Abosulte_Area.png'\n",
    "save_name = Path('.', DIR, save_name)\n",
    "plt.savefig(save_name)\n",
    "\n",
    "fig = plt.figure(figsize=(7.2, 7.8), dpi=300)\n",
    "ax = fig.add_axes([0.12, 0.11, 0.84, 0.72])\n",
    "sc = ax.imshow(a_m_rela_1.transpose(), cmap='RdYlGn', origin='lower', aspect='auto', zorder=5, vmin=0.0)\n",
    "ax.plot([0, C0[0]*(C1_NUM-1)/(C1_UPPER-C1_LOWER)], [C0[3]*(C4_NUM-1)/(C4_UPPER-C4_LOWER), 0], \n",
    "        linestyle=':', linewidth=3.0, zorder=10, color='#87CEEB')\n",
    "ax.set_xlim(0, C1_NUM-1)\n",
    "ax.set_ylim(0, C4_NUM-1)\n",
    "ax.set_xticks(x_t)\n",
    "ax.set_yticks(y_t)\n",
    "ax.set_xticklabels(x_ticks, rotation=30)\n",
    "ax.set_yticklabels(y_ticks)\n",
    "ax.set_xlabel(title[0], fontsize=17)\n",
    "ax.set_ylabel(title[3], fontsize=17)\n",
    "plt.suptitle('2D Phase Searching of Reduction by C\\n'+\n",
    "             'C Range:c1:'+str(C1_LOWER)+'~'+str(C1_UPPER)+'mM    c4:'+str(C4_LOWER)+'~'+str(C4_UPPER)+'mM\\n'+\n",
    "             'C Range:c3:'+str(C3_LOWER)+'~'+str(C3_UPPER)+'mM\\n'+\n",
    "             'c5 Product Time:'+str(C5_PRODUCT_TIME)+'\\n', fontsize=18)\n",
    "cb = plt.colorbar(sc)\n",
    "cb.set_label('Relative Area of Reduction', fontsize=17)\n",
    "save_name = '2DPS_02b_2D-Phase-Searching_Red_Relative_Area.png'\n",
    "save_name = Path('.', DIR, save_name)\n",
    "plt.savefig(save_name)"
   ]
  },
  {
   "cell_type": "code",
   "execution_count": null,
   "metadata": {
    "ExecuteTime": {
     "end_time": "2022-04-26T04:43:51.513821Z",
     "start_time": "2022-04-26T04:43:51.497106Z"
    }
   },
   "outputs": [],
   "source": [
    "red_0_m = []\n",
    "red_1_m = []\n",
    "yf_0_m = []\n",
    "yf_1_m = []\n",
    "for i in range(X_C.shape[0]):\n",
    "    if y_c[i, ] == 0:\n",
    "        red_0_m.append([X_C[i, 0]*(C1_NUM-1)/(C1_UPPER-C1_LOWER), X_C[i, 3]*(C4_NUM-1)/(C4_UPPER-C4_LOWER)])\n",
    "    else:\n",
    "        red_1_m.append([X_C[i, 0]*(C1_NUM-1)/(C1_UPPER-C1_LOWER), X_C[i, 3]*(C4_NUM-1)/(C4_UPPER-C4_LOWER)])\n",
    "for i in range(X_PP.shape[0]):\n",
    "    if y_pp[i, ] == 0:\n",
    "        yf_0_m.append([X_PP[i, 0]*(C1_NUM-1)/(C1_UPPER-C1_LOWER), X_PP[i, 3]*(C4_NUM-1)/(C4_UPPER-C4_LOWER)])\n",
    "    else:\n",
    "        yf_1_m.append([X_PP[i, 0]*(C1_NUM-1)/(C1_UPPER-C1_LOWER), X_PP[i, 3]*(C4_NUM-1)/(C4_UPPER-C4_LOWER)])\n",
    "red_0_m = np.array(red_0_m)\n",
    "red_1_m = np.array(red_1_m)\n",
    "yf_0_m = np.array(yf_0_m)\n",
    "yf_1_m = np.array(yf_1_m)"
   ]
  },
  {
   "cell_type": "code",
   "execution_count": null,
   "metadata": {
    "ExecuteTime": {
     "end_time": "2022-04-26T04:43:55.584612Z",
     "start_time": "2022-04-26T04:43:53.383145Z"
    }
   },
   "outputs": [],
   "source": [
    "fig = plt.figure(figsize=(7.2, 7.8), dpi=300)\n",
    "ax = fig.add_axes([0.12, 0.11, 0.84, 0.72])\n",
    "sc = ax.imshow(pp_num.transpose(), cmap='BuPu', origin='lower', aspect='auto', zorder=5, vmin=0.0)\n",
    "ax.plot([0, C0[0]*(C1_NUM-1)/(C1_UPPER-C1_LOWER)], [C0[3]*(C4_NUM-1)/(C4_UPPER-C4_LOWER), 0], \n",
    "        linestyle=':', linewidth=3.0, zorder=10, color='#87CEEB')\n",
    "ax.scatter(red_0_m[:, 0], red_0_m[:, 1], edgecolors='black', linewidths=2, c='#C0C0C0', zorder=15)\n",
    "ax.scatter(red_1_m[:, 0], red_1_m[:, 1], edgecolors='black', linewidths=2, c='#ADFF2F', zorder=15)\n",
    "ax.scatter(yf_0_m[:, 0], yf_0_m[:, 1], edgecolors='#696969', linewidths=2, c='#F5FFFA', zorder=15)\n",
    "ax.scatter(yf_1_m[:, 0], yf_1_m[:, 1], edgecolors='#696969', linewidths=2, c='#FF8C00', zorder=15)\n",
    "ax.set_xlim(0, C1_NUM-1)\n",
    "ax.set_ylim(0, C4_NUM-1)\n",
    "ax.set_xticks(x_t)\n",
    "ax.set_yticks(y_t)\n",
    "ax.set_xticklabels(x_ticks, rotation=30)\n",
    "ax.set_yticklabels(y_ticks)\n",
    "ax.set_xlabel(title[0], fontsize=17)\n",
    "ax.set_ylabel(title[3], fontsize=17)\n",
    "plt.suptitle('2D Phase Searching of DP Count by C\\n'+\n",
    "             'C Range:c1:'+str(C1_LOWER)+'~'+str(C1_UPPER)+'mM    c4:'+str(C4_LOWER)+'~'+str(C4_UPPER)+'mM\\n'+\n",
    "             'C Range:c3:'+str(C3_LOWER)+'~'+str(C3_UPPER)+'mM\\n'+\n",
    "             'c5 Product Time:'+str(C5_PRODUCT_TIME)+'\\n', fontsize=18)\n",
    "cb = plt.colorbar(sc)\n",
    "cb.set_label('Number of Data Points', fontsize=17)\n",
    "save_name = '2DPS_02c_2D-Phase-Searching_DP_Num.png'\n",
    "save_name = Path('.', DIR, save_name)\n",
    "plt.savefig(save_name)"
   ]
  },
  {
   "cell_type": "code",
   "execution_count": null,
   "metadata": {},
   "outputs": [],
   "source": []
  }
 ],
 "metadata": {
  "kernelspec": {
   "display_name": "PythonForDYH",
   "language": "python",
   "name": "dyhpy"
  },
  "language_info": {
   "codemirror_mode": {
    "name": "ipython",
    "version": 3
   },
   "file_extension": ".py",
   "mimetype": "text/x-python",
   "name": "python",
   "nbconvert_exporter": "python",
   "pygments_lexer": "ipython3",
   "version": "3.7.6"
  },
  "varInspector": {
   "cols": {
    "lenName": 16,
    "lenType": 16,
    "lenVar": 40
   },
   "kernels_config": {
    "python": {
     "delete_cmd_postfix": "",
     "delete_cmd_prefix": "del ",
     "library": "var_list.py",
     "varRefreshCmd": "print(var_dic_list())"
    },
    "r": {
     "delete_cmd_postfix": ") ",
     "delete_cmd_prefix": "rm(",
     "library": "var_list.r",
     "varRefreshCmd": "cat(var_dic_list()) "
    }
   },
   "types_to_exclude": [
    "module",
    "function",
    "builtin_function_or_method",
    "instance",
    "_Feature"
   ],
   "window_display": false
  }
 },
 "nbformat": 4,
 "nbformat_minor": 4
}
